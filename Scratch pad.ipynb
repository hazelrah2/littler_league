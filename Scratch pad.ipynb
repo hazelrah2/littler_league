{
 "cells": [
  {
   "cell_type": "code",
   "execution_count": null,
   "metadata": {},
   "outputs": [],
   "source": [
    "import pandas as pd\n",
    "import numpy as np\n",
    "import random\n",
    "import string\n",
    "import matplotlib.pyplot as plt\n",
    "pd.set_option('display.max_columns', 30)"
   ]
  },
  {
   "cell_type": "code",
   "execution_count": null,
   "metadata": {
    "code_folding": [
     0
    ]
   },
   "outputs": [],
   "source": [
    "#manual players\n",
    "skills = [1,2,3]\n",
    "stats = [.120, .160, .323]\n",
    "name = \"Ty Mus\"\n",
    "TM = {'name' : name,\n",
    "      'contact' : skills[0],\n",
    "      'power' : skills[1],\n",
    "      'throw' : skills[2],\n",
    "#      'skills' : skills,\n",
    "#      'stats' : stats\n",
    "    }\n",
    "print(TM)\n",
    "# TM['skills'][1]\n",
    "\n",
    "skills = [1.2, 2.2, 3.2]\n",
    "stats = [.124, .164, .328]\n",
    "name = \"Cor M\"\n",
    "cm = {'name' : name,\n",
    "      'contact' : skills[0],\n",
    "      'power' : skills[1],\n",
    "      'throw' : skills[2],\n",
    "#             'skills' : skills,\n",
    "#           'stats' : stats\n",
    "         }\n",
    "print(cm)\n",
    "# cm['skills'][1]"
   ]
  },
  {
   "cell_type": "code",
   "execution_count": null,
   "metadata": {
    "code_folding": [
     0
    ]
   },
   "outputs": [],
   "source": [
    "#turn to df, set index\n",
    "team1 = pd.DataFrame([TM,cm])\n",
    "team1 =team1.set_index('name')\n",
    "print(team1)"
   ]
  },
  {
   "cell_type": "code",
   "execution_count": null,
   "metadata": {
    "code_folding": [
     0
    ]
   },
   "outputs": [],
   "source": [
    "#writing to all skills\n",
    "skill_up = [skill+.5 for skill in team1.loc['Ty Mus']]\n",
    "print(skill_up)\n",
    "n = 0\n",
    "for i in skill_up:\n",
    "    team1.loc[\"Ty Mus\"].iloc[n] = i\n",
    "    n += 1\n",
    "    \n",
    "print(team1)"
   ]
  },
  {
   "cell_type": "code",
   "execution_count": null,
   "metadata": {
    "code_folding": [
     0
    ]
   },
   "outputs": [],
   "source": [
    "#dictionary comprehension\n",
    "self.skill = {key : np.mean(skill_roll(center)) for (key,value) in self.skill.items()}"
   ]
  },
  {
   "cell_type": "code",
   "execution_count": null,
   "metadata": {},
   "outputs": [],
   "source": [
    "#TODO quicker way to make/update the team1_stat df using comprehension? \n",
    "self.skill = {key : np.mean(skill_roll(center)) for (key,value) in self.skill.items()}\n"
   ]
  },
  {
   "cell_type": "code",
   "execution_count": null,
   "metadata": {
    "code_folding": []
   },
   "outputs": [],
   "source": [
    "#updating stat in dict\n",
    "\n",
    "batter = team1[lineup].name #for lineup spot 1-9 (or 0-8)\n",
    "team1_stat.loc[batter,'hbp'] += 1\n",
    "team1_stat.loc[team1[0].name,'hbp'] += 1 #all in one line version"
   ]
  },
  {
   "cell_type": "code",
   "execution_count": null,
   "metadata": {
    "code_folding": [
     0,
     2
    ]
   },
   "outputs": [],
   "source": [
    "#update stats for whole team (messed up first row of df) OBSOLETE\n",
    "\n",
    "def update_stats(df, team = None):\n",
    "#     pdb.set_trace()\n",
    "    #TODO calculate avg,obp, etc when updating\n",
    "    if team is not None:\n",
    "#         for i in range(len(team)):\n",
    "#             df.loc[team[i].name] = team[i].stat\n",
    "        for player in team:\n",
    "            df.loc[player.name] = player.stat\n",
    "    else: \n",
    "        print('error: update failed')\n",
    "        \n",
    "    return df\n",
    "\n",
    "\n",
    "team1_stat = update_stats(team1_stat, team1)\n",
    "team1_stat\n",
    "\n",
    "        \n",
    "#         team1_stat = pd.DataFrame([team1[0].stat,team1[1].stat])"
   ]
  },
  {
   "cell_type": "code",
   "execution_count": null,
   "metadata": {
    "code_folding": [
     0
    ]
   },
   "outputs": [],
   "source": [
    "#first player\n",
    "ab=player()\n",
    "ab.create()\n",
    "# ab.stat['2b'] += 1\n",
    "print(ab.stars)\n",
    "print(ab.skill)\n",
    "\n",
    "#second player\n",
    "bb=player()\n",
    "bb.create(name='Sam G')\n",
    "\n",
    "team1_skill = pd.DataFrame([ab.skill,bb.skill])\n",
    "team1_skill =team1_skill.set_index('name')\n",
    "team1_skill"
   ]
  },
  {
   "cell_type": "code",
   "execution_count": null,
   "metadata": {
    "code_folding": [
     0
    ]
   },
   "outputs": [],
   "source": [
    "#setting up stat dataFrame OBSOLETE\n",
    "team1_stat = pd.DataFrame([team1[0].stat,team1[1].stat])\n",
    "team1_stat = team1_stat.set_index('name') #can be ['name','age','number'] If I want\n",
    "sequence = ['pa', 'ab','r','h','bb','so','2b',\n",
    "            '3b','hr', 'e','rbi','tb','ll_sb','cs','hbp','sac','sf','gdp','go','ao','lo','fc','risp_ab']\n",
    "team1_stat = team1_stat.reindex(columns=sequence)\n",
    "\n",
    "team1[1].stat['h'] += 1\n",
    "team1[0].out('go')\n",
    "#TODO this method doesn't update dataframe, but it is cleaner. might be worth it to use this and just remake the \n",
    "#frame every game to see stats\n",
    "team1[0].hit(tb=3)\n",
    "\n",
    "team1_stat\n"
   ]
  }
 ],
 "metadata": {
  "kernelspec": {
   "display_name": "Python 3",
   "language": "python",
   "name": "python3"
  },
  "language_info": {
   "codemirror_mode": {
    "name": "ipython",
    "version": 3
   },
   "file_extension": ".py",
   "mimetype": "text/x-python",
   "name": "python",
   "nbconvert_exporter": "python",
   "pygments_lexer": "ipython3",
   "version": "3.5.6"
  },
  "varInspector": {
   "cols": {
    "lenName": 16,
    "lenType": 16,
    "lenVar": 40
   },
   "kernels_config": {
    "python": {
     "delete_cmd_postfix": "",
     "delete_cmd_prefix": "del ",
     "library": "var_list.py",
     "varRefreshCmd": "print(var_dic_list())"
    },
    "r": {
     "delete_cmd_postfix": ") ",
     "delete_cmd_prefix": "rm(",
     "library": "var_list.r",
     "varRefreshCmd": "cat(var_dic_list()) "
    }
   },
   "types_to_exclude": [
    "module",
    "function",
    "builtin_function_or_method",
    "instance",
    "_Feature"
   ],
   "window_display": false
  },
  "widgets": {
   "state": {},
   "version": "1.1.2"
  }
 },
 "nbformat": 4,
 "nbformat_minor": 2
}
